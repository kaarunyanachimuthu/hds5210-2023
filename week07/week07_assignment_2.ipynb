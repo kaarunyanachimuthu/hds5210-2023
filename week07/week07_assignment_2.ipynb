{
  "cells": [
    {
      "cell_type": "markdown",
      "metadata": {
        "id": "view-in-github",
        "colab_type": "text"
      },
      "source": [
        "<a href=\"https://colab.research.google.com/github/kaarunyanachimuthu/hds5210-2023/blob/main/week07/week07_assignment_2.ipynb\" target=\"_parent\"><img src=\"https://colab.research.google.com/assets/colab-badge.svg\" alt=\"Open In Colab\"/></a>"
      ]
    },
    {
      "cell_type": "markdown",
      "metadata": {
        "id": "xpgkxX8IFFrY"
      },
      "source": [
        "# Week 7 Assignment\n",
        "\n",
        "We've been working with different types of data structures in Python (dictionary, list, etc), how those are represented in JSON documents, and how to write code to access specific data elements. In this week's assignment, you will need to create your own JSON document to store information about yourself and the grades you've received from week 1 to week 4 and the week 6 quiz.  That is, everything you should have received a grade for.  Then you'll need to show me you know how to navigate the JSON in that file.\n",
        "\n",
        "Different from what we've done in the past, you do not have to write any functions or include any docstrings.  Just create some JSON and write some code.\n",
        "\n",
        "---"
      ]
    },
    {
      "cell_type": "markdown",
      "metadata": {
        "id": "xiTSsuxdFFrp"
      },
      "source": [
        "## 7.1 Create a JSON string\n",
        "\n",
        "Create a JSON string that contains your name, email, year you were born, all of the grades you've received back so far, and a comment about what you thought was most challenging on each of those assignments.  This can be any structure you choose, but make sure it uses a dictionary and a list, and has at least two levels of hierarchy.  That is, it can't just be one big long list."
      ]
    },
    {
      "cell_type": "markdown",
      "metadata": {
        "id": "TyVd1JUXFFrs"
      },
      "source": [
        "First, explain how your data structure is going to look..."
      ]
    },
    {
      "cell_type": "markdown",
      "metadata": {
        "id": "L_w6IOwQFFru"
      },
      "source": [
        "* Put your explanation here in text..."
      ]
    },
    {
      "cell_type": "markdown",
      "metadata": {
        "id": "J3QgWaIDFFrv"
      },
      "source": [
        "Then put the actual JSON you've created inside the multiline string below..."
      ]
    },
    {
      "cell_type": "code",
      "source": [
        "\"\"\"\n",
        "Pseudocode for creating a JSON string:\n",
        "\n",
        "Import json module\n",
        "Create dictionary my_hds_data with student information:\n",
        "  - name\n",
        "  - email\n",
        "  - birth_year\n",
        "  - grades (dictionary)\n",
        "    - course\n",
        "    - total_grades_received (list)\n",
        "      - assignment\n",
        "      - grades_received\n",
        "      - comments\n",
        "\n",
        "Convert my_hds_data dictionary to JSON string\n",
        "Print JSON string\n",
        "\"\"\""
      ],
      "metadata": {
        "id": "4Yqm-hq800AR",
        "outputId": "21fa92eb-479d-4b75-c635-37d9e6f5cbb3",
        "colab": {
          "base_uri": "https://localhost:8080/",
          "height": 70
        }
      },
      "execution_count": 19,
      "outputs": [
        {
          "output_type": "execute_result",
          "data": {
            "text/plain": [
              "'\\nPseudocode for creating a JSON string:\\n\\nImport json module\\nCreate dictionary my_hds_data with student information:\\n  - name\\n  - email \\n  - birth_year\\n  - grades (dictionary)\\n    - course\\n    - total_grades_received (list)\\n      - assignment \\n      - grades_received\\n      - comments\\n\\nConvert my_hds_data dictionary to JSON string\\nPrint JSON string\\n'"
            ],
            "application/vnd.google.colaboratory.intrinsic+json": {
              "type": "string"
            }
          },
          "metadata": {},
          "execution_count": 19
        }
      ]
    },
    {
      "cell_type": "code",
      "execution_count": 20,
      "metadata": {
        "id": "kOxaSOKxFFrx",
        "outputId": "8d2c985f-5e9d-402c-f7d0-1491d6b4cb00",
        "colab": {
          "base_uri": "https://localhost:8080/"
        }
      },
      "outputs": [
        {
          "output_type": "stream",
          "name": "stdout",
          "text": [
            "{\n",
            " \"name\": \"Kaarunya Nachimuthu\",\n",
            " \"email\": \"kaarunya.nachimuthu@slu.edu\",\n",
            " \"birth_year\": 1999,\n",
            " \"grades\": {\n",
            "  \"course\": \"HDS-5210\",\n",
            "  \"total_grades_recieved\": [\n",
            "   {\n",
            "    \"assignment\": \"Week 1 Assignment\",\n",
            "    \"grades_recieved\": \"4\",\n",
            "    \"comments\": \"to confirm with the solutions must not be plagarized or identical to another solution.\"\n",
            "   },\n",
            "   {\n",
            "    \"assignment\": \"Week 2 Assignment\",\n",
            "    \"grades_recieved\": \"20.5\",\n",
            "    \"comments\": \"to create functions on BMI calculation and work on the weights, Heights of the patient\"\n",
            "   },\n",
            "   {\n",
            "    \"assignment\": \"Week 3 Assignment\",\n",
            "    \"grades_recieved\": \"19.5\",\n",
            "    \"comments\": \"to create functions and work on the problems related to medical terminologies\"\n",
            "   },\n",
            "   {\n",
            "    \"assignment\": \"Week 4 Assignment\",\n",
            "    \"grades_recieved\": \"3\",\n",
            "    \"comments\": \"to produce a valid pseudocode and non-identical code\"\n",
            "   },\n",
            "   {\n",
            "    \"assignment\": \"Week 5 Assignment\",\n",
            "    \"grades_recieved\": \"0\",\n",
            "    \"comments\": \"to produce a valid pseudocodeunderstand the code submission to the repository with docstring.\"\n",
            "   }\n",
            "  ]\n",
            " }\n",
            "}\n"
          ]
        }
      ],
      "source": [
        "import json\n",
        "\n",
        "my_hds_data = {\n",
        "    \"name\": \"Kaarunya Nachimuthu\",\n",
        "    \"email\": \"kaarunya.nachimuthu@slu.edu\",\n",
        "    \"birth_year\": 1999,\n",
        "    \"grades\":\n",
        "        {\n",
        "            \"course\": \"HDS-5210\",\n",
        "            \"total_grades_recieved\": [\n",
        "                {\n",
        "                    \"assignment\": \"Week 1 Assignment\",\n",
        "                    \"grades_recieved\": \"4\",\n",
        "                    \"comments\": \"to confirm with the solutions must not be plagarized or identical to another solution.\"\n",
        "                },\n",
        "                {\n",
        "                    \"assignment\": \"Week 2 Assignment\",\n",
        "                    \"grades_recieved\": \"20.5\",\n",
        "                    \"comments\": \"to create functions on BMI calculation and work on the weights, Heights of the patient\"\n",
        "                },\n",
        "                {\n",
        "                    \"assignment\": \"Week 3 Assignment\",\n",
        "                    \"grades_recieved\": \"19.5\",\n",
        "                    \"comments\": \"to create functions and work on the problems related to medical terminologies\"\n",
        "                },\n",
        "                {\n",
        "                    \"assignment\": \"Week 4 Assignment\",\n",
        "                    \"grades_recieved\": \"3\",\n",
        "                    \"comments\": \"to produce a valid pseudocode and non-identical code\"\n",
        "                },\n",
        "                {\n",
        "                    \"assignment\": \"Week 5 Assignment\",\n",
        "                    \"grades_recieved\": \"0\",\n",
        "                    \"comments\": \"to produce a valid pseudocodeunderstand the code submission to the repository with docstring.\"\n",
        "                },\n",
        "                ]\n",
        "        },\n",
        "        }\n",
        "\n",
        "json_str = json.dumps(my_hds_data, indent=1)\n",
        "print(json_str)"
      ]
    },
    {
      "cell_type": "markdown",
      "metadata": {
        "id": "zP0ZcrBrFFr5"
      },
      "source": [
        "## 7.2 Do something with your JSON\n",
        "\n",
        "Now use Python code to do something with the Json above.  Turn it into English text, but make sure that you use at least one loop to access some dict or list content of your JSON.  Below, I've provided some basic code to read in the string above as JSON and return a Python object.  Your job is to work with that data structure and print out the important information like your name, email, and how you did on each assignment."
      ]
    },
    {
      "cell_type": "code",
      "source": [
        "\"\"\"\n",
        "Pseudocode for loading the JSON data \"my_hds_data\" and printing information on each assignment:\n",
        "\n",
        "Import json module\n",
        "Define my_hds_data as a JSON string containing student information\n",
        "Parse my_hds_data JSON string into a Python dictionary called info\n",
        "Get name, email, birth_year from info dictionary\n",
        "Print a message with name, birth_year, email\n",
        "Get assignments list from info dictionary\n",
        "Loop through first 4 assignments in assignments list:\n",
        "  Get grade and comment for current assignment\n",
        "  Print message with grade and comment for current assignment\n",
        "\"\"\""
      ],
      "metadata": {
        "id": "rV2IUq12zydd",
        "outputId": "d03803eb-2a62-40d2-d09f-a7d1ee49668e",
        "colab": {
          "base_uri": "https://localhost:8080/",
          "height": 87
        }
      },
      "execution_count": 21,
      "outputs": [
        {
          "output_type": "execute_result",
          "data": {
            "text/plain": [
              "'\\nPseudocode for loading the JSON data \"my_hds_data\" and printing information on each assignment:\\n\\nImport json module\\nDefine my_hds_data as a JSON string containing student information\\nParse my_hds_data JSON string into a Python dictionary called info \\nGet name, email, birth_year from info dictionary\\nPrint a message with name, birth_year, email\\nGet assignments list from info dictionary\\nLoop through first 4 assignments in assignments list:\\n  Get grade and comment for current assignment\\n  Print message with grade and comment for current assignment\\n'"
            ],
            "application/vnd.google.colaboratory.intrinsic+json": {
              "type": "string"
            }
          },
          "metadata": {},
          "execution_count": 21
        }
      ]
    },
    {
      "cell_type": "code",
      "execution_count": 22,
      "metadata": {
        "id": "yqZEr3qkFFr7",
        "outputId": "c2ad31ab-da90-41a0-924c-ac22d943f0df",
        "colab": {
          "base_uri": "https://localhost:8080/"
        }
      },
      "outputs": [
        {
          "output_type": "stream",
          "name": "stdout",
          "text": [
            "Hi, I am Kaarunya Nachimuthu. I was born in 1999 and my email is kaarunya.nachimuthu@slu.edu\n",
            "I got a 4 on assignment 1. The challenge faced was to confirm with the solutions must not be plagarized or identical to another solution.\n",
            "I got a 20.5 on assignment 2. The challenge faced was to create functions on BMI calculation and work on the weights, Heights of the patient\n",
            "I got a 19.5 on assignment 3. The challenge faced was to create functions and work on the problems related to medical terminologies\n",
            "I got a 3 on assignment 4. The challenge faced was to produce a valid pseudocode and non-identical code\n",
            "I got a 0 on assignment 5. The challenge faced was to produce a valid pseudocodeunderstand the code submission to the repository with docstring.\n"
          ]
        }
      ],
      "source": [
        "import json\n",
        "\n",
        "my_hds_data = \"\"\"{\n",
        "    \"name\": \"Kaarunya Nachimuthu\",\n",
        "    \"email\": \"kaarunya.nachimuthu@slu.edu\",\n",
        "    \"birth_year\": 1999,\n",
        "    \"grades\":\n",
        "        {\n",
        "            \"course\": \"HDS-5210\",\n",
        "            \"total_grades_received\": [\n",
        "                {\n",
        "                    \"assignment\": \"Week 1 Assignment\",\n",
        "                    \"grades_received\": \"4\",\n",
        "                    \"comments\": \"to confirm with the solutions must not be plagarized or identical to another solution.\"\n",
        "                },\n",
        "                {\n",
        "                    \"assignment\": \"Week 2 Assignment\",\n",
        "                    \"grades_received\": \"20.5\",\n",
        "                    \"comments\": \"to create functions on BMI calculation and work on the weights, Heights of the patient\"\n",
        "                },\n",
        "                {\n",
        "                    \"assignment\": \"Week 3 Assignment\",\n",
        "                    \"grades_received\": \"19.5\",\n",
        "                    \"comments\": \"to create functions and work on the problems related to medical terminologies\"\n",
        "                },\n",
        "                {\n",
        "                    \"assignment\": \"Week 4 Assignment\",\n",
        "                    \"grades_received\": \"3\",\n",
        "                    \"comments\": \"to produce a valid pseudocode and non-identical code\"\n",
        "                },\n",
        "                {\n",
        "                    \"assignment\": \"Week 5 Assignment\",\n",
        "                    \"grades_received\": \"0\",\n",
        "                    \"comments\": \"to produce a valid pseudocodeunderstand the code submission to the repository with docstring.\"\n",
        "                }\n",
        "            ]\n",
        "        }\n",
        "    }\n",
        "\"\"\"\n",
        "\n",
        "info = json.loads(my_hds_data)\n",
        "name = info[\"name\"]\n",
        "email = info[\"email\"]\n",
        "birth_year = info[\"birth_year\"]\n",
        "assignments = info[\"grades\"][\"total_grades_received\"]\n",
        "\n",
        "print(f\"Hi, I am {name}. I was born in {birth_year} and my email is {email}\")\n",
        "for i, assignment in enumerate(assignments):\n",
        "    assignment_grade = assignment[\"grades_received\"]\n",
        "    assignment_comment = assignment[\"comments\"]\n",
        "    print(f\"I got a {assignment_grade} on assignment {i+1}. The challenge faced was {assignment_comment}\")\n"
      ]
    },
    {
      "cell_type": "markdown",
      "metadata": {
        "id": "rKC7gL3_FFr_"
      },
      "source": [
        "## 7.3 Reflect\n",
        "\n",
        "Write a paragraph on any reflections you have. Was this hard? Easy?  What parts were most challenging or easiest? What did you like or dislike about the assignment?  Share whatever important thoughts you have abou this assignment."
      ]
    },
    {
      "cell_type": "markdown",
      "metadata": {
        "id": "T9Nn89Q7FFsB"
      },
      "source": [
        "Overall, the task was simple and quick, thanks to the example provided by the professor. It was simple to design a personalized data structure using the dictionary and lists that were generated. However, I had to use my creative thinking to come up with answers to problems for each cosequtive week. Along with increasing knowledge of data administration, information retrieval, and building programming and data manipulation skills, I think learning to create JSON code was enlightening."
      ]
    },
    {
      "cell_type": "markdown",
      "metadata": {
        "id": "TT1C24w3FFsC"
      },
      "source": [
        "---\n",
        "\n",
        "# Example\n",
        "\n",
        "Below is an example of something similar, but this uses information my and my friend's kids instead of grades."
      ]
    },
    {
      "cell_type": "code",
      "execution_count": null,
      "metadata": {
        "id": "Iafb7RmfFFsD",
        "outputId": "c252ef66-21b5-4fbf-f0ea-b2e496d631ca"
      },
      "outputs": [
        {
          "name": "stdout",
          "output_type": "stream",
          "text": [
            "Hi, my name is Paul. I've got 3 kids. Their names are Ellie, Ada, Teddy.\n",
            "My friend, Anny has 1 kids. That's fewer than me. Their names are 1\n"
          ]
        }
      ],
      "source": [
        "hds5210 = \"\"\"\n",
        "{\n",
        "    \"me\": {\n",
        "        \"name\": \"Paul\",\n",
        "        \"kids\": [\"Ellie\", \"Ada\", \"Teddy\"]\n",
        "    },\n",
        "    \"friend\": {\n",
        "        \"name\": \"Anny\",\n",
        "        \"kids\": [\"Abby\"]\n",
        "    }\n",
        "}\n",
        "\"\"\"\n",
        "\n",
        "import json\n",
        "\n",
        "info = json.loads(hds5210)\n",
        "\n",
        "me = info[\"me\"][\"name\"]\n",
        "my_kids_count = len(info[\"me\"][\"kids\"])\n",
        "kids_list = \", \".join(info[\"me\"][\"kids\"])\n",
        "friend = info[\"friend\"][\"name\"]\n",
        "friends_kid_count = len(info[\"friend\"][\"kids\"])\n",
        "friend_kids = \", \".join(info[\"friend\"][\"kids\"])\n",
        "compare = \"more\" if friends_kid_count > my_kids_count else \"fewer\"\n",
        "\n",
        "print(f\"Hi, my name is {me}. I've got {my_kids_count} kids. Their names are {kids_list}.\")\n",
        "print(f\"My friend, {friend} has {friends_kid_count} kids. That's {compare} than me. Their names are {friends_kid_count}\")"
      ]
    }
  ],
  "metadata": {
    "kernelspec": {
      "display_name": "Python 3",
      "language": "python",
      "name": "python3"
    },
    "language_info": {
      "codemirror_mode": {
        "name": "ipython",
        "version": 3
      },
      "file_extension": ".py",
      "mimetype": "text/x-python",
      "name": "python",
      "nbconvert_exporter": "python",
      "pygments_lexer": "ipython3",
      "version": "3.9.16"
    },
    "colab": {
      "provenance": [],
      "include_colab_link": true
    }
  },
  "nbformat": 4,
  "nbformat_minor": 0
}